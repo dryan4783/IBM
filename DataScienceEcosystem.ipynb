{
  "metadata": {
    "language_info": {
      "codemirror_mode": {
        "name": "python",
        "version": 3
      },
      "file_extension": ".py",
      "mimetype": "text/x-python",
      "name": "python",
      "nbconvert_exporter": "python",
      "pygments_lexer": "ipython3",
      "version": "3.8"
    },
    "kernelspec": {
      "name": "python",
      "display_name": "Python (Pyodide)",
      "language": "python"
    }
  },
  "nbformat_minor": 4,
  "nbformat": 4,
  "cells": [
    {
      "cell_type": "markdown",
      "source": "# Data Science Tools and Ecosystem",
      "metadata": {}
    },
    {
      "cell_type": "markdown",
      "source": "In this notebook, Data Science Tools and Ecosystem are summarized.",
      "metadata": {}
    },
    {
      "cell_type": "markdown",
      "source": "**Objectives:**\n- List Data Science Languages\n- List Data Science Libraries\n- List Data Science Tools",
      "metadata": {}
    },
    {
      "cell_type": "markdown",
      "source": "Some of the popular languages that Data Scientists use are:\n\n1. Python\n2. R\n3. SQL\n4. Scala",
      "metadata": {}
    },
    {
      "cell_type": "markdown",
      "source": "## List of Data Science Languages:\n\nPython, R, SQL, Scala, Java, C++, Julia, JS, PHP, Go, Ruby, Visual Basic",
      "metadata": {}
    },
    {
      "cell_type": "markdown",
      "source": "## List of Data Science Libraries:\n\nPanda, Numpy, Matplotlib, Seaborn, Sickit-Learn, Keras, Tensorflow, Pytorch, Vegas, Bigdl, GGPlot2",
      "metadata": {}
    },
    {
      "cell_type": "markdown",
      "source": "|Data Science|Tools|\n|---|---|\n|Watson|Fiddler|\n|Github|NodeRed|\n|Spark|Airflow|\n|ApacheNifi|ApacheKafka|\n|KubeFlow|PixieDust|\n|Hue|Kabana|\n|Superset|Mleap|\n|PredictionIO|Seldon|\n|Kubernetes|Openshift|\n|Prometheus|ModelDB|\n|Git|Gitlab|\n|Bitbucket|Apache Atlas|\n|Kylo|Egeria|",
      "metadata": {}
    },
    {
      "cell_type": "markdown",
      "source": "### Below are a few examples of evaluating arithmetic expressions in Python",
      "metadata": {}
    },
    {
      "cell_type": "code",
      "source": "# This a simple arithmetic expression to mutiply then add integers\n\n(3*4)+5",
      "metadata": {
        "trusted": true
      },
      "execution_count": 11,
      "outputs": [
        {
          "execution_count": 11,
          "output_type": "execute_result",
          "data": {
            "text/plain": "17"
          },
          "metadata": {}
        }
      ]
    },
    {
      "cell_type": "code",
      "source": "# This will convert 200 minutes to hours by diving by 60\n\n200/60",
      "metadata": {
        "trusted": true
      },
      "execution_count": 12,
      "outputs": [
        {
          "execution_count": 12,
          "output_type": "execute_result",
          "data": {
            "text/plain": "3.3333333333333335"
          },
          "metadata": {}
        }
      ]
    },
    {
      "cell_type": "code",
      "source": "",
      "metadata": {},
      "execution_count": null,
      "outputs": []
    }
  ]
}